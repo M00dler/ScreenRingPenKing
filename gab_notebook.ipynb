{
 "cells": [
  {
   "cell_type": "code",
   "execution_count": 2,
   "metadata": {},
   "outputs": [
    {
     "data": {
      "text/plain": [
       "(83646, 46)"
      ]
     },
     "execution_count": 2,
     "metadata": {},
     "output_type": "execute_result"
    }
   ],
   "source": [
    "import pandas as pd\n",
    "df = pd.read_csv(\"steam_games.csv\")\n",
    "df.shape\n",
    "# (83646, 46)"
   ]
  },
  {
   "cell_type": "code",
   "execution_count": 3,
   "metadata": {},
   "outputs": [
    {
     "data": {
      "text/plain": [
       "'\\nThese are misc details that would most likely not affect sales or reviews in any way, \\neither because they are descriptors or information is already provided\\n'"
      ]
     },
     "execution_count": 3,
     "metadata": {},
     "output_type": "execute_result"
    }
   ],
   "source": [
    "df.columns\n",
    "\"\"\"\n",
    "'AppID', 'name', 'release_date', 'required_age', 'price', 'dlc_count',\n",
    "'detailed_description', 'about_the_game', 'short_description',\n",
    "'reviews', 'header_image', 'website', 'support_url', 'support_email',\n",
    "'windows', 'mac', 'linux', 'metacritic_score', 'metacritic_url',\n",
    "'achievements', 'recommendations', 'notes', 'supported_languages',\n",
    "'full_audio_languages', 'packages', 'developers', 'publishers',\n",
    "'categories', 'genres', 'screenshots', 'movies', 'user_score',\n",
    "'score_rank', 'positive', 'negative', 'estimated_owners',\n",
    "'average_playtime_forever', 'average_playtime_2weeks',\n",
    "'median_playtime_forever', 'median_playtime_2weeks', 'peak_ccu', 'tags',\n",
    "'pct_pos_total', 'num_reviews_total', 'pct_pos_recent', 'num_reviews_recent'\n",
    "\"\"\"\n",
    "\n",
    "# our target would be \"positive\" & \"negative\" (maybe pos neg ratio) and \"estimated_owners\"\n",
    "\n",
    "# Initial dropped colums: 'AppID', 'name', 'release_date', 'detailed_description', \n",
    "# 'about_the_game', 'short_description', 'header_image',\n",
    "\"\"\"\n",
    "These are misc details that would most likely not affect sales or reviews in any way, \n",
    "either because they are descriptors or information is already provided\n",
    "\"\"\""
   ]
  },
  {
   "cell_type": "markdown",
   "metadata": {},
   "source": [
    "our target would be \"positive\" & \"negative\" (maybe pos neg ratio) and \"estimated_owners\"\n",
    "\n",
    "Initial dropped colums: \n",
    "'AppID', 'name', 'release_date', 'detailed_description', \n",
    "'about_the_game', 'short_description', 'header_image', 'metacritic_url', \n",
    "'packages', 'screenshots',\n",
    "\n",
    "    These are misc details that would most likely not affect sales or reviews in any way, \n",
    "    either because they are descriptors or information is already provided\n",
    "\n",
    "Bool-able columns:\n",
    "'website', 'support_url', 'support_email', 'notes',\n",
    "\n",
    "    Reading it may not be useful but having these elements (Nan value) may prove to be useful\n",
    "\n",
    "Modified columns:\n",
    "'recommendations', 'supported_languages',\n",
    "\n",
    "    Convert to int to count quantity\n",
    "\n",
    "\n",
    "\n",
    "'AppID', 'name', 'release_date', \n",
    "'detailed_description', 'about_the_game', 'short_description',\n",
    "'header_image', 'website', 'support_url', 'support_email',\n",
    "'metacritic_url', 'achievements', 'notes', 'packages', 'screenshots', \n",
    "\n",
    "\n",
    "Will use columns\n",
    "'required_age', 'price', 'windows', 'mac', 'linux', \n",
    "'supported_languages', 'full_audio_languages', 'publishers', \n",
    "'categories', 'genres', 'movies',\n",
    "'peak_ccu', 'tags',\n",
    "'pct_pos_total', 'pct_pos_recent',\n",
    "'num_reviews_recent'\n",
    "\n",
    "Possible Y column\n",
    "'score_rank', 'positive', 'negative', 'num_reviews_total', 'estimated_owners',\n",
    "'average_playtime_forever', 'average_playtime_2weeks',\n",
    "'median_playtime_forever', 'median_playtime_2weeks',\n"
   ]
  },
  {
   "cell_type": "code",
   "execution_count": 4,
   "metadata": {},
   "outputs": [],
   "source": [
    "df[\"total_reviews\"] = df[\"positive\"] + df[\"negative\"]\n",
    "df[\"pos_fraction\"] = df[\"positive\"] / df[\"total_reviews\"]"
   ]
  },
  {
   "cell_type": "code",
   "execution_count": 5,
   "metadata": {},
   "outputs": [
    {
     "data": {
      "text/html": [
       "<div>\n",
       "<style scoped>\n",
       "    .dataframe tbody tr th:only-of-type {\n",
       "        vertical-align: middle;\n",
       "    }\n",
       "\n",
       "    .dataframe tbody tr th {\n",
       "        vertical-align: top;\n",
       "    }\n",
       "\n",
       "    .dataframe thead th {\n",
       "        text-align: right;\n",
       "    }\n",
       "</style>\n",
       "<table border=\"1\" class=\"dataframe\">\n",
       "  <thead>\n",
       "    <tr style=\"text-align: right;\">\n",
       "      <th></th>\n",
       "      <th>name</th>\n",
       "      <th>positive</th>\n",
       "      <th>negative</th>\n",
       "      <th>pos_fraction</th>\n",
       "    </tr>\n",
       "  </thead>\n",
       "  <tbody>\n",
       "    <tr>\n",
       "      <th>0</th>\n",
       "      <td>Counter-Strike 2</td>\n",
       "      <td>7024836</td>\n",
       "      <td>1029779</td>\n",
       "      <td>0.872150</td>\n",
       "    </tr>\n",
       "    <tr>\n",
       "      <th>1</th>\n",
       "      <td>PUBG: BATTLEGROUNDS</td>\n",
       "      <td>1379580</td>\n",
       "      <td>981860</td>\n",
       "      <td>0.584211</td>\n",
       "    </tr>\n",
       "    <tr>\n",
       "      <th>2</th>\n",
       "      <td>Dota 2</td>\n",
       "      <td>1832477</td>\n",
       "      <td>406030</td>\n",
       "      <td>0.818616</td>\n",
       "    </tr>\n",
       "    <tr>\n",
       "      <th>3</th>\n",
       "      <td>Grand Theft Auto V</td>\n",
       "      <td>1557234</td>\n",
       "      <td>236827</td>\n",
       "      <td>0.867994</td>\n",
       "    </tr>\n",
       "    <tr>\n",
       "      <th>4</th>\n",
       "      <td>Tom Clancy's Rainbow Six® Siege</td>\n",
       "      <td>1094330</td>\n",
       "      <td>190046</td>\n",
       "      <td>0.852032</td>\n",
       "    </tr>\n",
       "    <tr>\n",
       "      <th>5</th>\n",
       "      <td>Team Fortress 2</td>\n",
       "      <td>980419</td>\n",
       "      <td>65046</td>\n",
       "      <td>0.937783</td>\n",
       "    </tr>\n",
       "    <tr>\n",
       "      <th>6</th>\n",
       "      <td>Terraria</td>\n",
       "      <td>1254269</td>\n",
       "      <td>30467</td>\n",
       "      <td>0.976285</td>\n",
       "    </tr>\n",
       "    <tr>\n",
       "      <th>7</th>\n",
       "      <td>Garry's Mod</td>\n",
       "      <td>1033373</td>\n",
       "      <td>34893</td>\n",
       "      <td>0.967337</td>\n",
       "    </tr>\n",
       "    <tr>\n",
       "      <th>8</th>\n",
       "      <td>Rust</td>\n",
       "      <td>922081</td>\n",
       "      <td>136729</td>\n",
       "      <td>0.870865</td>\n",
       "    </tr>\n",
       "    <tr>\n",
       "      <th>9</th>\n",
       "      <td>Apex Legends™</td>\n",
       "      <td>643860</td>\n",
       "      <td>182551</td>\n",
       "      <td>0.779104</td>\n",
       "    </tr>\n",
       "  </tbody>\n",
       "</table>\n",
       "</div>"
      ],
      "text/plain": [
       "                              name  positive  negative  pos_fraction\n",
       "0                 Counter-Strike 2   7024836   1029779      0.872150\n",
       "1              PUBG: BATTLEGROUNDS   1379580    981860      0.584211\n",
       "2                           Dota 2   1832477    406030      0.818616\n",
       "3               Grand Theft Auto V   1557234    236827      0.867994\n",
       "4  Tom Clancy's Rainbow Six® Siege   1094330    190046      0.852032\n",
       "5                  Team Fortress 2    980419     65046      0.937783\n",
       "6                         Terraria   1254269     30467      0.976285\n",
       "7                      Garry's Mod   1033373     34893      0.967337\n",
       "8                             Rust    922081    136729      0.870865\n",
       "9                    Apex Legends™    643860    182551      0.779104"
      ]
     },
     "execution_count": 5,
     "metadata": {},
     "output_type": "execute_result"
    }
   ],
   "source": [
    "df[[\"name\",\"positive\",\"negative\",\"pos_fraction\"]].head(10)"
   ]
  }
 ],
 "metadata": {
  "kernelspec": {
   "display_name": "Python 3",
   "language": "python",
   "name": "python3"
  },
  "language_info": {
   "codemirror_mode": {
    "name": "ipython",
    "version": 3
   },
   "file_extension": ".py",
   "mimetype": "text/x-python",
   "name": "python",
   "nbconvert_exporter": "python",
   "pygments_lexer": "ipython3",
   "version": "3.11.4"
  }
 },
 "nbformat": 4,
 "nbformat_minor": 2
}
