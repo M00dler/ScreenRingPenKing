{
 "cells": [
  {
   "cell_type": "code",
   "execution_count": 65,
   "metadata": {},
   "outputs": [],
   "source": [
    "import numpy as np\n",
    "import random\n",
    "import seaborn as sns\n",
    "import matplotlib.pyplot as plt\n",
    "from matplotlib.colors import ListedColormap\n",
    "\n",
    "class Minesweeper:\n",
    "    def __init__(self, rows, cols, num_mines):\n",
    "        \"\"\"\n",
    "        Initialize the Minesweeper game.\n",
    "        \"\"\"\n",
    "        self.rows = rows\n",
    "        self.cols = cols\n",
    "        self.num_mines = num_mines\n",
    "        self.board = np.zeros((rows, cols), dtype=int)\n",
    "        self.internal_state = np.full((rows, cols), None)\n",
    "        self.revealed = set()\n",
    "        self.mines = set()\n",
    "        self.last_move = None  # Initialize last_move\n",
    "        self.place_mines()\n",
    "        self.calculate_hints()\n",
    "        self.initialize_internal_state()\n",
    "\n",
    "    def place_mines(self):\n",
    "        \"\"\"\n",
    "        Randomly place mines on the board.\n",
    "        Mines are represented by -1.\n",
    "        \"\"\"\n",
    "        all_positions = [(r, c) for r in range(self.rows) for c in range(self.cols)]\n",
    "        self.mines = set(random.sample(all_positions, self.num_mines))\n",
    "        for (r, c) in self.mines:\n",
    "            self.board[r][c] = -1\n",
    "\n",
    "    def calculate_hints(self):\n",
    "        \"\"\"\n",
    "        For each cell that is not a mine, calculate the number of neighboring mines.\n",
    "        \"\"\"\n",
    "        for r in range(self.rows):\n",
    "            for c in range(self.cols):\n",
    "                if self.board[r][c] == -1:\n",
    "                    continue\n",
    "                count = 0\n",
    "                for dr in [-1, 0, 1]:\n",
    "                    for dc in [-1, 0, 1]:\n",
    "                        nr, nc = r + dr, c + dc\n",
    "                        if dr == 0 and dc == 0:\n",
    "                            continue\n",
    "                        if 0 <= nr < self.rows and 0 <= nc < self.cols:\n",
    "                            if self.board[nr][nc] == -1:\n",
    "                                count += 1\n",
    "                self.board[r][c] = count\n",
    "\n",
    "    def initialize_internal_state(self):\n",
    "        \"\"\"\n",
    "        Initialize the internal state grid.\n",
    "        None represents unrevealed cells.\n",
    "        \"\"\"\n",
    "        self.internal_state = np.full((self.rows, self.cols), None)\n",
    "        self.revealed = set()\n",
    "        self.last_move = None  # Reset last_move\n",
    "\n",
    "    def reveal_square(self, r, c):\n",
    "        \"\"\"\n",
    "        Reveal the cell at (r, c).\n",
    "        Returns False if a mine is revealed, True otherwise.\n",
    "        \"\"\"\n",
    "        if (r, c) in self.revealed:\n",
    "            return True  # Already revealed\n",
    "\n",
    "        self.last_move = (r, c)  # Record the last move\n",
    "\n",
    "        if self.board[r][c] == -1:\n",
    "            self.internal_state[r][c] = -1  # Reveal mine\n",
    "            self.revealed.add((r, c))\n",
    "            return False  # Mine revealed\n",
    "\n",
    "        # Initialize a queue for iterative BFS\n",
    "        queue = [(r, c)]\n",
    "\n",
    "        while queue:\n",
    "            current_r, current_c = queue.pop(0)\n",
    "            \n",
    "            if (current_r, current_c) in self.revealed:\n",
    "                continue  # Skip already revealed cells\n",
    "\n",
    "            # Reveal the current cell\n",
    "            self.internal_state[current_r][current_c] = self.board[current_r][current_c]\n",
    "            self.revealed.add((current_r, current_c))\n",
    "\n",
    "            # If the cell has zero neighboring mines, add its neighbors to the queue\n",
    "            if self.board[current_r][current_c] == 0:\n",
    "                for dr in [-1, 0, 1]:\n",
    "                    for dc in [-1, 0, 1]:\n",
    "                        nr, nc = current_r + dr, current_c + dc\n",
    "                        if dr == 0 and dc == 0:\n",
    "                            continue  # Skip the current cell itself\n",
    "                        if 0 <= nr < self.rows and 0 <= nc < self.cols:\n",
    "                            if (nr, nc) not in self.revealed and (nr, nc) not in queue:\n",
    "                                queue.append((nr, nc))\n",
    "\n",
    "        return True\n",
    "\n",
    "\n",
    "    def display_board(self):\n",
    "        \"\"\"\n",
    "        Display the actual board (for debugging purposes).\n",
    "        \"\"\"\n",
    "        display = self.board.copy()\n",
    "        display[display == -1] = -1\n",
    "        for r in range(self.rows):\n",
    "            row = ''\n",
    "            for c in range(self.cols):\n",
    "                if display[r][c] == -1:\n",
    "                    row += ' * '\n",
    "                else:\n",
    "                    row += f' {display[r][c]} '\n",
    "            print(row)\n",
    "        print()\n",
    "\n",
    "    def plot_board(self):\n",
    "        \"\"\"\n",
    "        Plot the current state of the board using Seaborn's heatmap.\n",
    "        - Unrevealed cells are shown in a specific color (e.g., gray).\n",
    "        - Revealed numbers are colored based on their value.\n",
    "        - Mines are highlighted if revealed.\n",
    "        - The last revealed square is highlighted with a red edge.\n",
    "        \"\"\"\n",
    "        # Create a numerical representation for plotting\n",
    "        plot_data = np.full((self.rows, self.cols), -2)  # -2 for unrevealed\n",
    "\n",
    "        for r in range(self.rows):\n",
    "            for c in range(self.cols):\n",
    "                if (r, c) in self.revealed:\n",
    "                    plot_data[r][c] = self.internal_state[r][c]\n",
    "                else:\n",
    "                    plot_data[r][c] = -2  # Unrevealed\n",
    "\n",
    "        # Define a custom colormap\n",
    "        cmap = ListedColormap([\n",
    "            'lightgray',  # -2 Unrevealed\n",
    "            'black',      # -1 Mine\n",
    "            'white',      # 0\n",
    "            'lightblue',  # 1\n",
    "            'blue',       # 2\n",
    "            'darkblue',   # 3\n",
    "            'purple',     # 4\n",
    "            'red',        # 5\n",
    "            'darkred',    # 6\n",
    "            'orange',     # 7\n",
    "            'brown',      # 8\n",
    "            'black'       # 9 (Not used, just in case)\n",
    "        ])\n",
    "\n",
    "        # Define the range and norm\n",
    "        bounds = [-2, -1, 0, 1, 2, 3, 4, 5, 6, 7, 8, 9]\n",
    "        norm = plt.matplotlib.colors.BoundaryNorm(bounds, cmap.N)\n",
    "\n",
    "        plt.figure(figsize=(10, 10))\n",
    "        ax = sns.heatmap(plot_data, cmap=cmap, norm=norm, linewidths=0.5, linecolor='black', cbar=False)\n",
    "\n",
    "        # Add annotations\n",
    "        for r in range(self.rows):\n",
    "            for c in range(self.cols):\n",
    "                value = plot_data[r][c]\n",
    "                if value == -2:\n",
    "                    plt.text(c + 0.5, r + 0.5, '?', \n",
    "                            horizontalalignment='center',\n",
    "                            verticalalignment='center',\n",
    "                            fontsize=12, color='black')\n",
    "                elif value > 0:\n",
    "                    plt.text(c + 0.5, r + 0.5, str(value), \n",
    "                            horizontalalignment='center',\n",
    "                            verticalalignment='center',\n",
    "                            fontsize=12, color='white')\n",
    "                elif value == 0:\n",
    "                    plt.text(c + 0.5, r + 0.5, '0', \n",
    "                            horizontalalignment='center',\n",
    "                            verticalalignment='center',\n",
    "                            fontsize=12)\n",
    "\n",
    "        # Highlight the last move\n",
    "        if self.last_move and self.last_move in self.revealed:\n",
    "            r, c = self.last_move\n",
    "            # Draw a red rectangle around the last move\n",
    "            ax.add_patch(plt.Rectangle((c, r), 1, 1, fill=False, edgecolor='red', linewidth=3))\n",
    "\n",
    "        plt.title('Minesweeper Board')\n",
    "        plt.axis('off')\n",
    "        plt.gca().invert_yaxis()\n",
    "        \n",
    "\n",
    "    def plot_mines(self):\n",
    "        \"\"\"\n",
    "        Plot the positions of all mines on the board using a heatmap.\n",
    "        Mines are highlighted in red, and other cells are shown in white.\n",
    "        \"\"\"\n",
    "        # Create a matrix where mines are 1 and other cells are 0\n",
    "        mine_matrix = np.zeros((self.rows, self.cols))\n",
    "        for (r, c) in self.mines:\n",
    "            mine_matrix[r][c] = 1\n",
    "\n",
    "        # Define a custom colormap: white for non-mines, red for mines\n",
    "        cmap = ListedColormap(['grey', 'red'])\n",
    "        plt.figure(figsize=(10, 10))\n",
    "        # Plot the heatmap\n",
    "        sns.heatmap(mine_matrix, cmap=cmap, linewidths=0.5, linecolor='black', cbar=False)\n",
    "\n",
    "\n",
    "        plt.title('Mine Positions')\n",
    "        plt.axis('off')\n",
    "        plt.gca().invert_yaxis()\n",
    "        \n"
   ]
  },
  {
   "cell_type": "code",
   "execution_count": 49,
   "metadata": {},
   "outputs": [],
   "source": [
    "class Agent:\n",
    "    def __init__(self):\n",
    "        \"\"\"\n",
    "        Base Agent class. To be extended by specific agent implementations.\n",
    "        \"\"\"\n",
    "        pass\n",
    "\n",
    "    def choose_move(self, game):\n",
    "        \"\"\"\n",
    "        Decide the next move based on the current game state.\n",
    "\n",
    "        Parameters:\n",
    "        - game (Minesweeper): The current Minesweeper game instance.\n",
    "\n",
    "        Returns:\n",
    "        - tuple: (row, column) of the next move.\n",
    "        \"\"\"\n",
    "        raise NotImplementedError(\"This method should be implemented by subclasses.\")\n",
    "\n",
    "class RandomAgent(Agent):\n",
    "    def __init__(self):\n",
    "        \"\"\"\n",
    "        Agent that chooses moves randomly from unrevealed cells.\n",
    "        \"\"\"\n",
    "        super().__init__()\n",
    "\n",
    "    def choose_move(self, game):\n",
    "        \"\"\"\n",
    "        Choose a random unrevealed cell to reveal.\n",
    "\n",
    "        Parameters:\n",
    "        - game (Minesweeper): The current Minesweeper game instance.\n",
    "\n",
    "        Returns:\n",
    "        - tuple: (row, column) of the next move.\n",
    "        \"\"\"\n",
    "        unrevealed = [(r, c) for r in range(game.rows) \n",
    "                              for c in range(game.cols) \n",
    "                              if (r, c) not in game.revealed]\n",
    "        if not unrevealed:\n",
    "            return None  # No moves left\n",
    "        return random.choice(unrevealed)\n",
    "    \n",
    "    \n",
    "class LogicAgent(Agent):\n",
    "    def __init__(self):\n",
    "        \"\"\"\n",
    "        Deterministic Rule-Based Agent that uses basic Minesweeper logic to choose moves.\n",
    "        \"\"\"\n",
    "        super().__init__()\n",
    "        self.suspected_mines = set()\n",
    "        self.safe_moves = set()\n",
    "\n",
    "    def choose_move(self, game):\n",
    "        \"\"\"\n",
    "        Choose the next move based on Minesweeper logic.\n",
    "\n",
    "        Parameters:\n",
    "        - game (Minesweeper): The current Minesweeper game instance.\n",
    "\n",
    "        Returns:\n",
    "        - tuple: (row, column) of the next move, or None if no move can be determined.\n",
    "        \"\"\"\n",
    "        self.update_knowledge(game)\n",
    "\n",
    "        # If there are known safe moves, prioritize them\n",
    "        if self.safe_moves:\n",
    "            move = self.safe_moves.pop()\n",
    "            return move\n",
    "\n",
    "        # If no safe moves, pick a random move excluding suspected mines\n",
    "        move = self.pick_random_move(game)\n",
    "        return move\n",
    "\n",
    "    def update_knowledge(self, game):\n",
    "        \"\"\"\n",
    "        Update the agent's knowledge base by applying inference rules.\n",
    "\n",
    "        Parameters:\n",
    "        - game (Minesweeper): The current Minesweeper game instance.\n",
    "        \"\"\"\n",
    "        changed = True\n",
    "        while changed:\n",
    "            changed = False\n",
    "            for (r, c) in list(game.revealed):\n",
    "                clue = game.internal_state[r][c]\n",
    "                if clue is None or clue == -1:\n",
    "                    continue\n",
    "\n",
    "                # Get neighbors\n",
    "                neighbors = self.get_neighbors(game, r, c)\n",
    "                unrevealed = [cell for cell in neighbors if cell not in game.revealed and cell not in self.suspected_mines]\n",
    "\n",
    "                # Count how many neighboring cells are already suspected mines\n",
    "                suspected = [cell for cell in neighbors if cell in self.suspected_mines]\n",
    "\n",
    "                # Rule 1: If number on cell equals number of suspected mines, remaining neighbors are safe\n",
    "                if clue == len(suspected):\n",
    "                    for cell in unrevealed:\n",
    "                        if cell not in self.safe_moves:\n",
    "                            self.safe_moves.add(cell)\n",
    "                            changed = True\n",
    "\n",
    "                # Rule 2: If number on cell equals suspected mines plus unrevealed neighbors, all unrevealed neighbors are mines\n",
    "                elif clue == len(suspected) + len(unrevealed):\n",
    "                    for cell in unrevealed:\n",
    "                        if cell not in self.suspected_mines:\n",
    "                            self.suspected_mines.add(cell)\n",
    "                            changed = True\n",
    "\n",
    "    def get_neighbors(self, game, r, c):\n",
    "        \"\"\"\n",
    "        Get all valid neighboring cells around (r, c).\n",
    "\n",
    "        Parameters:\n",
    "        - game (Minesweeper): The current Minesweeper game instance.\n",
    "        - r (int): Row index.\n",
    "        - c (int): Column index.\n",
    "\n",
    "        Returns:\n",
    "        - list of tuples: Neighboring cell coordinates.\n",
    "        \"\"\"\n",
    "        neighbors = []\n",
    "        for dr in [-1, 0, 1]:\n",
    "            for dc in [-1, 0, 1]:\n",
    "                nr, nc = r + dr, c + dc\n",
    "                if dr == 0 and dc == 0:\n",
    "                    continue\n",
    "                if 0 <= nr < game.rows and 0 <= nc < game.cols:\n",
    "                    neighbors.append((nr, nc))\n",
    "        return neighbors\n",
    "\n",
    "    def pick_random_move(self, game):\n",
    "        \"\"\"\n",
    "        Pick a random move from the remaining unrevealed cells excluding suspected mines.\n",
    "\n",
    "        Parameters:\n",
    "        - game (Minesweeper): The current Minesweeper game instance.\n",
    "\n",
    "        Returns:\n",
    "        - tuple: (row, column) of the next move, or None if no move can be determined.\n",
    "        \"\"\"\n",
    "        unrevealed = [(r, c) for r in range(game.rows) \n",
    "                              for c in range(game.cols) \n",
    "                              if (r, c) not in game.revealed and (r, c) not in self.suspected_mines]\n",
    "        if not unrevealed:\n",
    "            return None\n",
    "        return random.choice(unrevealed)"
   ]
  },
  {
   "cell_type": "code",
   "execution_count": 44,
   "metadata": {},
   "outputs": [],
   "source": [
    "import os\n",
    "class Simulation:\n",
    "    def __init__(self, rows, cols, num_mines, agent, save_dir='simulation_images'):\n",
    "        \"\"\"\n",
    "        Initialize the simulation.\n",
    "\n",
    "        Parameters:\n",
    "        - rows (int): Number of rows in the board.\n",
    "        - cols (int): Number of columns in the board.\n",
    "        - num_mines (int): Number of mines on the board.\n",
    "        - agent (Agent): The agent that will play the game.\n",
    "        - save_dir (str): Directory to save the heatmap images.\n",
    "        \"\"\"\n",
    "        self.game = Minesweeper(rows, cols, num_mines)\n",
    "        self.agent = agent\n",
    "        self.save_dir = save_dir\n",
    "        self.move_count = 0\n",
    "        self.create_save_directory()\n",
    "\n",
    "    def create_save_directory(self):\n",
    "        \"\"\"\n",
    "        Create the directory to save images if it doesn't exist.\n",
    "        \"\"\"\n",
    "        if not os.path.exists(self.save_dir):\n",
    "            os.makedirs(self.save_dir)\n",
    "        else:\n",
    "            # Clear existing images\n",
    "            for filename in os.listdir(self.save_dir):\n",
    "                file_path = os.path.join(self.save_dir, filename)\n",
    "                if os.path.isfile(file_path):\n",
    "                    os.unlink(file_path)\n",
    "\n",
    "    def run(self):\n",
    "        \"\"\"\n",
    "        Run the simulation until the game is over (win or lose).\n",
    "\n",
    "        Returns:\n",
    "        - bool: True if the agent won, False if it hit a mine.\n",
    "        \"\"\"\n",
    "        self.save_mines_image()\n",
    "        while True:\n",
    "            # Save current board state\n",
    "            self.save_board_image()\n",
    "\n",
    "            # Check for win condition\n",
    "            if self.check_win():\n",
    "                print(\"Agent has successfully cleared the board!\")\n",
    "                return True\n",
    "\n",
    "            # Agent chooses next move\n",
    "            move = self.agent.choose_move(self.game)\n",
    "            if move is None:\n",
    "                print(\"No more moves left. Game over.\")\n",
    "                return False\n",
    "\n",
    "            r, c = move\n",
    "            print(f\"Move {self.move_count + 1}: Revealing cell ({r}, {c})\")\n",
    "            safe = self.game.reveal_square(r, c)\n",
    "            self.move_count += 1\n",
    "\n",
    "            if not safe:\n",
    "                # Save final board state with mine revealed\n",
    "                self.save_board_image()\n",
    "                print(f\"Agent hit a mine at ({r}, {c}). Game over.\")\n",
    "                return False\n",
    "\n",
    "    def check_win(self):\n",
    "        \"\"\"\n",
    "        Check if all non-mine cells have been revealed.\n",
    "\n",
    "        Returns:\n",
    "        - bool: True if the agent has won, False otherwise.\n",
    "        \"\"\"\n",
    "        total_cells = self.game.rows * self.game.cols\n",
    "        if len(self.game.revealed) == total_cells - self.game.num_mines:\n",
    "            return True\n",
    "        return False\n",
    "    \n",
    "    def save_mines_image(self):\n",
    "        \"\"\"\n",
    "        Save the positions of all mines on the board as an image.\n",
    "        \"\"\"\n",
    "        filename = os.path.join(self.save_dir, \"mines.png\")\n",
    "        plt.figure(figsize=(10, 8))\n",
    "        self.game.plot_mines()\n",
    "        plt.savefig(filename)\n",
    "        plt.close()\n",
    "\n",
    "    def save_board_image(self):\n",
    "        \"\"\"\n",
    "        Save the current state of the board as an image.\n",
    "        \"\"\"\n",
    "        filename = os.path.join(self.save_dir, f\"move_{self.move_count:04d}.png\")\n",
    "        plt.figure(figsize=(10, 8))       # Create a new figure\n",
    "        self.game.plot_board()            # Plot on the current figure\n",
    "        plt.savefig(filename)             # Save the current figure\n",
    "        plt.close()                       # Close the figure to free memory\n",
    "\n"
   ]
  },
  {
   "cell_type": "code",
   "execution_count": 14,
   "metadata": {},
   "outputs": [
    {
     "name": "stdout",
     "output_type": "stream",
     "text": [
      " 1  1  1  *  1  0  1  1  1  0 \n",
      " *  1  1  2  2  1  1  *  1  0 \n",
      " 2  2  1  3  *  3  2  1  1  0 \n",
      " *  1  1  *  *  *  1  1  1  1 \n",
      " 1  1  1  2  3  2  1  1  *  2 \n",
      " 0  0  0  0  0  0  0  2  3  * \n",
      " 1  1  1  1  1  0  0  1  *  2 \n",
      " *  2  1  *  1  0  0  1  1  1 \n",
      " *  2  1  1  1  0  0  1  1  1 \n",
      " 1  1  0  0  0  0  0  1  *  1 \n",
      "\n"
     ]
    }
   ],
   "source": [
    "rows, cols, num_mines = 10, 10, 15\n",
    "\n",
    "# Initialize game and AI agent\n",
    "game = Minesweeper(rows, cols, num_mines)\n",
    "game.display_board()\n",
    "# game.plot_board()"
   ]
  },
  {
   "cell_type": "code",
   "execution_count": 66,
   "metadata": {},
   "outputs": [
    {
     "name": "stdout",
     "output_type": "stream",
     "text": [
      "Move 1: Revealing cell (4, 4)\n",
      "Move 2: Revealing cell (2, 2)\n",
      "Move 3: Revealing cell (4, 5)\n",
      "Move 4: Revealing cell (2, 7)\n",
      "Move 5: Revealing cell (5, 8)\n",
      "Move 6: Revealing cell (4, 9)\n",
      "Move 7: Revealing cell (3, 7)\n",
      "Move 8: Revealing cell (1, 9)\n",
      "Move 9: Revealing cell (6, 8)\n",
      "Move 10: Revealing cell (0, 9)\n",
      "Move 11: Revealing cell (5, 1)\n",
      "Move 12: Revealing cell (2, 9)\n",
      "Move 13: Revealing cell (6, 7)\n",
      "Move 14: Revealing cell (2, 6)\n",
      "Move 15: Revealing cell (5, 9)\n",
      "Move 16: Revealing cell (6, 9)\n",
      "Move 17: Revealing cell (4, 7)\n",
      "Move 18: Revealing cell (3, 5)\n"
     ]
    },
    {
     "name": "stderr",
     "output_type": "stream",
     "text": [
      "/var/folders/bn/llk1pmgn40d3pd2v_zdcks9h0000gn/T/ipykernel_33543/3347290973.py:158: RuntimeWarning: More than 20 figures have been opened. Figures created through the pyplot interface (`matplotlib.pyplot.figure`) are retained until explicitly closed and may consume too much memory. (To control this warning, see the rcParam `figure.max_open_warning`). Consider using `matplotlib.pyplot.close()`.\n",
      "  plt.figure(figsize=(10, 10))\n",
      "/var/folders/bn/llk1pmgn40d3pd2v_zdcks9h0000gn/T/ipykernel_33543/2158832625.py:94: RuntimeWarning: More than 20 figures have been opened. Figures created through the pyplot interface (`matplotlib.pyplot.figure`) are retained until explicitly closed and may consume too much memory. (To control this warning, see the rcParam `figure.max_open_warning`). Consider using `matplotlib.pyplot.close()`.\n",
      "  plt.figure(figsize=(10, 8))       # Create a new figure\n"
     ]
    },
    {
     "name": "stdout",
     "output_type": "stream",
     "text": [
      "Move 19: Revealing cell (5, 2)\n",
      "Move 20: Revealing cell (6, 2)\n",
      "Move 21: Revealing cell (3, 0)\n",
      "Move 22: Revealing cell (5, 0)\n",
      "Move 23: Revealing cell (6, 1)\n",
      "Move 24: Revealing cell (6, 4)\n",
      "Move 25: Revealing cell (7, 3)\n",
      "Move 26: Revealing cell (6, 0)\n",
      "Move 27: Revealing cell (7, 5)\n",
      "Move 28: Revealing cell (7, 4)\n",
      "Move 29: Revealing cell (8, 4)\n",
      "Move 30: Revealing cell (6, 5)\n",
      "Move 31: Revealing cell (2, 0)\n",
      "Move 32: Revealing cell (8, 3)\n",
      "Move 33: Revealing cell (7, 6)\n",
      "Move 34: Revealing cell (8, 6)\n",
      "Move 35: Revealing cell (8, 5)\n",
      "Move 36: Revealing cell (7, 7)\n",
      "Move 37: Revealing cell (0, 0)\n",
      "Move 38: Revealing cell (8, 7)\n",
      "Move 39: Revealing cell (8, 0)\n",
      "Move 40: Revealing cell (7, 9)\n",
      "Move 41: Revealing cell (8, 9)\n",
      "Move 42: Revealing cell (9, 1)\n",
      "Move 43: Revealing cell (8, 8)\n",
      "Move 44: Revealing cell (9, 0)\n",
      "Move 45: Revealing cell (9, 2)\n",
      "Move 46: Revealing cell (9, 3)\n",
      "Move 47: Revealing cell (9, 6)\n",
      "Move 48: Revealing cell (9, 5)\n",
      "Move 49: Revealing cell (9, 9)\n",
      "Agent has successfully cleared the board!\n",
      "Agent won the game!\n"
     ]
    },
    {
     "data": {
      "text/plain": [
       "<Figure size 1000x800 with 0 Axes>"
      ]
     },
     "metadata": {},
     "output_type": "display_data"
    },
    {
     "data": {
      "text/plain": [
       "<Figure size 1000x800 with 0 Axes>"
      ]
     },
     "metadata": {},
     "output_type": "display_data"
    },
    {
     "data": {
      "text/plain": [
       "<Figure size 1000x800 with 0 Axes>"
      ]
     },
     "metadata": {},
     "output_type": "display_data"
    },
    {
     "data": {
      "text/plain": [
       "<Figure size 1000x800 with 0 Axes>"
      ]
     },
     "metadata": {},
     "output_type": "display_data"
    },
    {
     "data": {
      "text/plain": [
       "<Figure size 1000x800 with 0 Axes>"
      ]
     },
     "metadata": {},
     "output_type": "display_data"
    },
    {
     "data": {
      "text/plain": [
       "<Figure size 1000x800 with 0 Axes>"
      ]
     },
     "metadata": {},
     "output_type": "display_data"
    },
    {
     "data": {
      "text/plain": [
       "<Figure size 1000x800 with 0 Axes>"
      ]
     },
     "metadata": {},
     "output_type": "display_data"
    },
    {
     "data": {
      "text/plain": [
       "<Figure size 1000x800 with 0 Axes>"
      ]
     },
     "metadata": {},
     "output_type": "display_data"
    },
    {
     "data": {
      "text/plain": [
       "<Figure size 1000x800 with 0 Axes>"
      ]
     },
     "metadata": {},
     "output_type": "display_data"
    },
    {
     "data": {
      "text/plain": [
       "<Figure size 1000x800 with 0 Axes>"
      ]
     },
     "metadata": {},
     "output_type": "display_data"
    },
    {
     "data": {
      "text/plain": [
       "<Figure size 1000x800 with 0 Axes>"
      ]
     },
     "metadata": {},
     "output_type": "display_data"
    },
    {
     "data": {
      "text/plain": [
       "<Figure size 1000x800 with 0 Axes>"
      ]
     },
     "metadata": {},
     "output_type": "display_data"
    },
    {
     "data": {
      "text/plain": [
       "<Figure size 1000x800 with 0 Axes>"
      ]
     },
     "metadata": {},
     "output_type": "display_data"
    },
    {
     "data": {
      "text/plain": [
       "<Figure size 1000x800 with 0 Axes>"
      ]
     },
     "metadata": {},
     "output_type": "display_data"
    },
    {
     "data": {
      "text/plain": [
       "<Figure size 1000x800 with 0 Axes>"
      ]
     },
     "metadata": {},
     "output_type": "display_data"
    },
    {
     "data": {
      "text/plain": [
       "<Figure size 1000x800 with 0 Axes>"
      ]
     },
     "metadata": {},
     "output_type": "display_data"
    },
    {
     "data": {
      "text/plain": [
       "<Figure size 1000x800 with 0 Axes>"
      ]
     },
     "metadata": {},
     "output_type": "display_data"
    },
    {
     "data": {
      "text/plain": [
       "<Figure size 1000x800 with 0 Axes>"
      ]
     },
     "metadata": {},
     "output_type": "display_data"
    },
    {
     "data": {
      "text/plain": [
       "<Figure size 1000x800 with 0 Axes>"
      ]
     },
     "metadata": {},
     "output_type": "display_data"
    },
    {
     "data": {
      "text/plain": [
       "<Figure size 1000x800 with 0 Axes>"
      ]
     },
     "metadata": {},
     "output_type": "display_data"
    },
    {
     "data": {
      "text/plain": [
       "<Figure size 1000x800 with 0 Axes>"
      ]
     },
     "metadata": {},
     "output_type": "display_data"
    },
    {
     "data": {
      "text/plain": [
       "<Figure size 1000x800 with 0 Axes>"
      ]
     },
     "metadata": {},
     "output_type": "display_data"
    },
    {
     "data": {
      "text/plain": [
       "<Figure size 1000x800 with 0 Axes>"
      ]
     },
     "metadata": {},
     "output_type": "display_data"
    },
    {
     "data": {
      "text/plain": [
       "<Figure size 1000x800 with 0 Axes>"
      ]
     },
     "metadata": {},
     "output_type": "display_data"
    },
    {
     "data": {
      "text/plain": [
       "<Figure size 1000x800 with 0 Axes>"
      ]
     },
     "metadata": {},
     "output_type": "display_data"
    },
    {
     "data": {
      "text/plain": [
       "<Figure size 1000x800 with 0 Axes>"
      ]
     },
     "metadata": {},
     "output_type": "display_data"
    },
    {
     "data": {
      "text/plain": [
       "<Figure size 1000x800 with 0 Axes>"
      ]
     },
     "metadata": {},
     "output_type": "display_data"
    },
    {
     "data": {
      "text/plain": [
       "<Figure size 1000x800 with 0 Axes>"
      ]
     },
     "metadata": {},
     "output_type": "display_data"
    },
    {
     "data": {
      "text/plain": [
       "<Figure size 1000x800 with 0 Axes>"
      ]
     },
     "metadata": {},
     "output_type": "display_data"
    },
    {
     "data": {
      "text/plain": [
       "<Figure size 1000x800 with 0 Axes>"
      ]
     },
     "metadata": {},
     "output_type": "display_data"
    },
    {
     "data": {
      "text/plain": [
       "<Figure size 1000x800 with 0 Axes>"
      ]
     },
     "metadata": {},
     "output_type": "display_data"
    },
    {
     "data": {
      "text/plain": [
       "<Figure size 1000x800 with 0 Axes>"
      ]
     },
     "metadata": {},
     "output_type": "display_data"
    },
    {
     "data": {
      "text/plain": [
       "<Figure size 1000x800 with 0 Axes>"
      ]
     },
     "metadata": {},
     "output_type": "display_data"
    },
    {
     "data": {
      "text/plain": [
       "<Figure size 1000x800 with 0 Axes>"
      ]
     },
     "metadata": {},
     "output_type": "display_data"
    },
    {
     "data": {
      "text/plain": [
       "<Figure size 1000x800 with 0 Axes>"
      ]
     },
     "metadata": {},
     "output_type": "display_data"
    },
    {
     "data": {
      "text/plain": [
       "<Figure size 1000x800 with 0 Axes>"
      ]
     },
     "metadata": {},
     "output_type": "display_data"
    },
    {
     "data": {
      "text/plain": [
       "<Figure size 1000x800 with 0 Axes>"
      ]
     },
     "metadata": {},
     "output_type": "display_data"
    },
    {
     "data": {
      "text/plain": [
       "<Figure size 1000x800 with 0 Axes>"
      ]
     },
     "metadata": {},
     "output_type": "display_data"
    },
    {
     "data": {
      "text/plain": [
       "<Figure size 1000x800 with 0 Axes>"
      ]
     },
     "metadata": {},
     "output_type": "display_data"
    },
    {
     "data": {
      "text/plain": [
       "<Figure size 1000x800 with 0 Axes>"
      ]
     },
     "metadata": {},
     "output_type": "display_data"
    },
    {
     "data": {
      "text/plain": [
       "<Figure size 1000x800 with 0 Axes>"
      ]
     },
     "metadata": {},
     "output_type": "display_data"
    },
    {
     "data": {
      "text/plain": [
       "<Figure size 1000x800 with 0 Axes>"
      ]
     },
     "metadata": {},
     "output_type": "display_data"
    },
    {
     "data": {
      "text/plain": [
       "<Figure size 1000x800 with 0 Axes>"
      ]
     },
     "metadata": {},
     "output_type": "display_data"
    },
    {
     "data": {
      "text/plain": [
       "<Figure size 1000x800 with 0 Axes>"
      ]
     },
     "metadata": {},
     "output_type": "display_data"
    },
    {
     "data": {
      "text/plain": [
       "<Figure size 1000x800 with 0 Axes>"
      ]
     },
     "metadata": {},
     "output_type": "display_data"
    },
    {
     "data": {
      "text/plain": [
       "<Figure size 1000x800 with 0 Axes>"
      ]
     },
     "metadata": {},
     "output_type": "display_data"
    },
    {
     "data": {
      "text/plain": [
       "<Figure size 1000x800 with 0 Axes>"
      ]
     },
     "metadata": {},
     "output_type": "display_data"
    },
    {
     "data": {
      "text/plain": [
       "<Figure size 1000x800 with 0 Axes>"
      ]
     },
     "metadata": {},
     "output_type": "display_data"
    },
    {
     "data": {
      "text/plain": [
       "<Figure size 1000x800 with 0 Axes>"
      ]
     },
     "metadata": {},
     "output_type": "display_data"
    },
    {
     "data": {
      "text/plain": [
       "<Figure size 1000x800 with 0 Axes>"
      ]
     },
     "metadata": {},
     "output_type": "display_data"
    },
    {
     "data": {
      "text/plain": [
       "<Figure size 1000x800 with 0 Axes>"
      ]
     },
     "metadata": {},
     "output_type": "display_data"
    }
   ],
   "source": [
    "if __name__ == \"__main__\":\n",
    "    # Define game parameters\n",
    "    rows = 10\n",
    "    cols = 10\n",
    "    num_mines = 15\n",
    "\n",
    "    # Initialize agent and simulation\n",
    "    agent = LogicAgent()\n",
    "    simulation = Simulation(rows, cols, num_mines, agent, save_dir='simulation_images')\n",
    "\n",
    "    # Run the simulation\n",
    "    result = simulation.run()\n",
    "\n",
    "    if result:\n",
    "        print(\"Agent won the game!\")\n",
    "    else:\n",
    "        print(\"Agent lost the game.\")\n"
   ]
  },
  {
   "cell_type": "code",
   "execution_count": 15,
   "metadata": {},
   "outputs": [
    {
     "data": {
      "text/plain": [
       "True"
      ]
     },
     "execution_count": 15,
     "metadata": {},
     "output_type": "execute_result"
    }
   ],
   "source": [
    "game.reveal_square(0, 0)"
   ]
  },
  {
   "cell_type": "code",
   "execution_count": 16,
   "metadata": {},
   "outputs": [
    {
     "data": {
      "image/png": "[encoded data removed]",
      "text/plain": [
       "<Figure size 1000x800 with 1 Axes>"
      ]
     },
     "metadata": {},
     "output_type": "display_data"
    }
   ],
   "source": [
    "game.plot_board()"
   ]
  },
  {
   "cell_type": "code",
   "execution_count": null,
   "metadata": {},
   "outputs": [],
   "source": []
  }
 ],
 "metadata": {
  "kernelspec": {
   "display_name": "Python 3",
   "language": "python",
   "name": "python3"
  },
  "language_info": {
   "codemirror_mode": {
    "name": "ipython",
    "version": 3
   },
   "file_extension": ".py",
   "mimetype": "text/x-python",
   "name": "python",
   "nbconvert_exporter": "python",
   "pygments_lexer": "ipython3",
   "version": "3.11.7"
  }
 },
 "nbformat": 4,
 "nbformat_minor": 2
}
